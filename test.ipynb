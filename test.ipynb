{
 "cells": [
  {
   "cell_type": "code",
   "execution_count": 1,
   "metadata": {},
   "outputs": [],
   "source": [
    "import gym_super_mario_bros\n",
    "from gym_super_mario_bros.actions import RIGHT_ONLY\n",
    "from nes_py.wrappers import JoypadSpace\n",
    "from pl_bolts.models.rl.common.gym_wrappers import MaxAndSkipEnv\n",
    "from gym.wrappers import GrayScaleObservation, ResizeObservation, FrameStack, TransformObservation, RecordVideo\n",
    "from icecream import ic"
   ]
  },
  {
   "cell_type": "code",
   "execution_count": 2,
   "metadata": {},
   "outputs": [
    {
     "data": {
      "text/plain": [
       "<gym.wrappers.frame_stack.LazyFrames at 0x7f8b107b5ef0>"
      ]
     },
     "execution_count": 2,
     "metadata": {},
     "output_type": "execute_result"
    }
   ],
   "source": [
    "env = gym_super_mario_bros.make('SuperMarioBros-v0')\n",
    "env = JoypadSpace(env, RIGHT_ONLY)\n",
    "env = RecordVideo(env, \"test_video\", lambda x: x % 1 == 0)\n",
    "env = MaxAndSkipEnv(env, skip=4)\n",
    "env = GrayScaleObservation(env, keep_dim=False)\n",
    "env = ResizeObservation(env, shape=84)\n",
    "env = TransformObservation(env, f = lambda x: x / 255.)\n",
    "env = FrameStack(env, num_stack=4)\n",
    "env.reset()"
   ]
  },
  {
   "cell_type": "code",
   "execution_count": 3,
   "metadata": {},
   "outputs": [],
   "source": [
    "import matplotlib.pyplot as plt\n",
    "done = False\n",
    "while True:\n",
    "    if done:\n",
    "        env.reset()\n",
    "    obs, reward, done, info = env.step(env.action_space.sample())\n",
    "    env.render()"
   ]
  }
 ],
 "metadata": {
  "interpreter": {
   "hash": "eb935de985543403a714cac0b5fa301e3b890701eafaabda2e211bd4461aab90"
  },
  "kernelspec": {
   "display_name": "Python 3.7.13 ('qmario')",
   "language": "python",
   "name": "python3"
  },
  "language_info": {
   "codemirror_mode": {
    "name": "ipython",
    "version": 3
   },
   "file_extension": ".py",
   "mimetype": "text/x-python",
   "name": "python",
   "nbconvert_exporter": "python",
   "pygments_lexer": "ipython3",
   "version": "3.7.13"
  },
  "orig_nbformat": 4
 },
 "nbformat": 4,
 "nbformat_minor": 2
}
