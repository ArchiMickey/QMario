{
 "cells": [
  {
   "cell_type": "markdown",
   "metadata": {},
   "source": [
    "Create a Mario environment"
   ]
  },
  {
   "cell_type": "code",
   "execution_count": 12,
   "metadata": {},
   "outputs": [
    {
     "data": {
      "text/plain": [
       "[['NOOP'], ['right'], ['right', 'A'], ['right', 'B'], ['right', 'A', 'B']]"
      ]
     },
     "execution_count": 12,
     "metadata": {},
     "output_type": "execute_result"
    }
   ],
   "source": [
    "# import the game\n",
    "import gym_super_mario_bros\n",
    "# Joypad wrapper\n",
    "from nes_py.wrappers import JoypadSpace\n",
    "# import simplified actions\n",
    "from gym_super_mario_bros.actions import RIGHT_ONLY\n",
    "from core.env_wrapper import SkipFrame, ResizeObservation\n",
    "from gym.wrappers import GrayScaleObservation, TransformObservation, FrameStack\n",
    "\n",
    "\n",
    "def make_mario(env_name: str):\n",
    "    env = gym_super_mario_bros.make(env_name)\n",
    "    env = JoypadSpace(env, RIGHT_ONLY)\n",
    "    env = SkipFrame(env, skip=4)\n",
    "    env = GrayScaleObservation(env, keep_dim=False)\n",
    "    env = ResizeObservation(env, shape=84)\n",
    "    env = TransformObservation(env, f = lambda x: x / 255.)\n",
    "    env = FrameStack(env, num_stack=4)\n",
    "    return env\n",
    "RIGHT_ONLY"
   ]
  },
  {
   "cell_type": "code",
   "execution_count": 13,
   "metadata": {},
   "outputs": [
    {
     "data": {
      "text/plain": [
       "<gym.wrappers.frame_stack.LazyFrames at 0x7f8629aa3530>"
      ]
     },
     "execution_count": 13,
     "metadata": {},
     "output_type": "execute_result"
    }
   ],
   "source": [
    "temp_env = make_mario('SuperMarioBros-v0')\n",
    "temp_env.reset()"
   ]
  },
  {
   "cell_type": "code",
   "execution_count": 14,
   "metadata": {},
   "outputs": [
    {
     "data": {
      "text/plain": [
       "5"
      ]
     },
     "execution_count": 14,
     "metadata": {},
     "output_type": "execute_result"
    }
   ],
   "source": [
    "temp_env.action_space.n"
   ]
  },
  {
   "cell_type": "code",
   "execution_count": 15,
   "metadata": {},
   "outputs": [
    {
     "data": {
      "text/plain": [
       "(4, 84, 84)"
      ]
     },
     "execution_count": 15,
     "metadata": {},
     "output_type": "execute_result"
    }
   ],
   "source": [
    "temp_env.observation().shape"
   ]
  },
  {
   "cell_type": "code",
   "execution_count": 16,
   "metadata": {},
   "outputs": [
    {
     "data": {
      "text/plain": [
       "<matplotlib.image.AxesImage at 0x7f86272d0650>"
      ]
     },
     "execution_count": 16,
     "metadata": {},
     "output_type": "execute_result"
    },
    {
     "data": {
      "image/png": "[encoded data removed]",
      "text/plain": [
       "<Figure size 432x288 with 1 Axes>"
      ]
     },
     "metadata": {
      "needs_background": "light"
     },
     "output_type": "display_data"
    }
   ],
   "source": [
    "import matplotlib.pyplot as plt\n",
    "plt.imshow(temp_env.observation()[0], cmap='gray')"
   ]
  },
  {
   "cell_type": "code",
   "execution_count": null,
   "metadata": {},
   "outputs": [],
   "source": []
  },
  {
   "cell_type": "markdown",
   "metadata": {},
   "source": [
    "Replay Buffer"
   ]
  },
  {
   "cell_type": "code",
   "execution_count": 17,
   "metadata": {},
   "outputs": [],
   "source": [
    "from collections import deque, namedtuple\n",
    "from typing import Tuple\n",
    "\n",
    "from torch.utils.data.dataset import IterableDataset\n",
    "import numpy as np\n",
    "\n",
    "Experience = namedtuple(\"Experience\",\n",
    "                        field_names=['state', 'action', 'reward', 'done', 'new_state'],\n",
    "                        )\n",
    "\n",
    "class ReplayBuffer:\n",
    "    def __init__(self, capacity: int):\n",
    "        self.buffer = deque(maxlen=capacity)\n",
    "    \n",
    "    def __len__(self):\n",
    "        return len(self.buffer)\n",
    "    \n",
    "    def append(self, experience: Experience):\n",
    "        self.buffer.append(experience)\n",
    "    \n",
    "    def sample(self, batch_size: int) -> Tuple:\n",
    "        # print(len(self.buffer), batch_size)\n",
    "        indices = np.random.choice(len(self.buffer), batch_size, replace=False)\n",
    "        states, actions, rewards, dones, next_states = zip(*(self.buffer[idx] for idx in indices))\n",
    "        \n",
    "        return (\n",
    "            np.array(states),\n",
    "            np.array(actions),\n",
    "            np.array(rewards, dtype=np.float32),\n",
    "            np.array(dones, dtype=np.bool8),\n",
    "            np.array(next_states),\n",
    "        )\n",
    "\n",
    "class RLDataset(IterableDataset):\n",
    "    def __init__(self, buffer: ReplayBuffer, sample_size: int = 200):\n",
    "        self.buffer = buffer\n",
    "        self.sample_size = sample_size\n",
    "    \n",
    "    def __iter__(self) -> Tuple:\n",
    "        states, actions, rewards, dones, new_states = self.buffer.sample(self.sample_size)\n",
    "        for i in range(len(dones)):\n",
    "            yield states[i], actions[i], rewards[i], dones[i], new_states[i] "
   ]
  },
  {
   "cell_type": "markdown",
   "metadata": {},
   "source": [
    "Agent"
   ]
  },
  {
   "cell_type": "code",
   "execution_count": 18,
   "metadata": {},
   "outputs": [],
   "source": [
    "from typing import Tuple\n",
    "import gym, torch\n",
    "import numpy as np\n",
    "from torch import nn\n",
    "import wandb\n",
    "# from .memory import ReplayBuffer, Experience\n",
    "class Agent:\n",
    "    def __init__(self, env: gym.Env, replay_buffer:ReplayBuffer) -> None:\n",
    "        self.env = env\n",
    "        self.replay_buffer = replay_buffer\n",
    "        self.reset()\n",
    "        self.state = self.env.reset()\n",
    "    \n",
    "    def reset(self):\n",
    "        self.state = self.env.reset()\n",
    "    \n",
    "    def get_action(self, net:nn.Module, epsilon: float, device: str):\n",
    "        if np.random.random() < epsilon:\n",
    "            action = self.env.action_space.sample()\n",
    "        else:\n",
    "            state = torch.tensor([self.state])\n",
    "            \n",
    "            if device not in ['cpu']:\n",
    "                state = state.cuda(device)\n",
    "            \n",
    "            q_value = net(state)\n",
    "            _, action = torch.max(q_value, dim=1)\n",
    "            action = int(action.item())\n",
    "        \n",
    "        return action\n",
    "    \n",
    "    @torch.no_grad()\n",
    "    def play_step(self, net: nn.Module, epsilon: float = 0.0, device: str = \"cpu\") -> Tuple[float, bool]:\n",
    "        action = self.get_action(net, epsilon, device)\n",
    "        new_state, reward, done, _ = self.env.step(action)\n",
    "        \n",
    "        # self.env.render()\n",
    "        # plt.close()\n",
    "        # fig, ax = plt.subplots(1, 4)\n",
    "        # plt.figure(figsize=(20,8))\n",
    "        # for i in range(4):\n",
    "        #     ax[i].imshow(self.state[i], cmap='gray')\n",
    "                \n",
    "        exp = Experience(self.state, action, reward, done, new_state)\n",
    "        self.replay_buffer.append(exp)\n",
    "        self.state = new_state\n",
    "        if done:\n",
    "            self.reset()\n",
    "        \n",
    "        return reward, done"
   ]
  },
  {
   "cell_type": "markdown",
   "metadata": {},
   "source": [
    "Deep Q Network"
   ]
  },
  {
   "cell_type": "code",
   "execution_count": 19,
   "metadata": {},
   "outputs": [],
   "source": [
    "class DQN(nn.Module):\n",
    "    def __init__(self, obs_dim, n_actions):\n",
    "        c, h, w = obs_dim\n",
    "        \n",
    "        if h != 84:\n",
    "            raise ValueError(f\"Expecting input height: 84, got: {h}\")\n",
    "        if w != 84:   \n",
    "            raise ValueError(f\"Expecting input width: 84, got: {w}\")\n",
    "        \n",
    "        super().__init__()\n",
    "        self.net = nn.Sequential(\n",
    "            nn.Conv2d(in_channels=c, out_channels=32, kernel_size=8, stride=4),\n",
    "            nn.ReLU(),\n",
    "            nn.Conv2d(in_channels=32, out_channels=64, kernel_size=4, stride=2),\n",
    "            nn.ReLU(),\n",
    "            nn.Conv2d(in_channels=64, out_channels=64, kernel_size=3, stride=1),\n",
    "            nn.ReLU(),\n",
    "            nn.Flatten(),\n",
    "            nn.Linear(3136, 512),\n",
    "            nn.ReLU(),\n",
    "            nn.Linear(512, n_actions)\n",
    "        )\n",
    "    def forward(self, state):\n",
    "        # print(next(self.parameters()).is_cuda)\n",
    "        return self.net(state.float())"
   ]
  },
  {
   "cell_type": "markdown",
   "metadata": {},
   "source": [
    "Double DQN"
   ]
  },
  {
   "cell_type": "code",
   "execution_count": 20,
   "metadata": {},
   "outputs": [],
   "source": [
    "from torch import Tensor\n",
    "from typing import List, Tuple\n",
    "import pytorch_lightning as pl\n",
    "from torch.optim import Adam, Optimizer\n",
    "from torch.utils.data.dataloader import DataLoader\n",
    "from collections import OrderedDict\n",
    "import torch.nn.functional as F\n",
    "\n",
    "class DDQNLightning(pl.LightningModule):\n",
    "    def __init__(\n",
    "        self,\n",
    "        batch_size: int = 32,\n",
    "        lr: float = 0.00025,\n",
    "        env: str = 'SuperMarioBros-v0',\n",
    "        gamma: float = 0.9,\n",
    "        sync_rate: int = 10000,\n",
    "        replay_size: int = 100000,\n",
    "        warm_start_size: int = 1000,\n",
    "        eps_decay: int = 0.99999975,\n",
    "        eps_start: float = 1.0,\n",
    "        eps_min: float = 0.1,\n",
    "        episode_length: int = 1000,\n",
    "        warm_start_steps: int = 1000,\n",
    "    ) -> None:\n",
    "        super().__init__()\n",
    "        \n",
    "        self.save_hyperparameters()\n",
    "        \n",
    "        self.env = make_mario(env)\n",
    "        self.env.reset()\n",
    "        obs_dim = self.env.observation().shape\n",
    "        n_actions = self.env.action_space.n\n",
    "        \n",
    "        self.net = DQN(obs_dim, n_actions)\n",
    "        self.target_net = DQN(obs_dim, n_actions)\n",
    "        \n",
    "        self.buffer = ReplayBuffer(self.hparams.replay_size)\n",
    "        self.agent = Agent(self.env, self.buffer)\n",
    "        self.total_reward = 0\n",
    "        self.episode_reward = 0\n",
    "        self.populate(self.hparams.warm_start_steps)\n",
    "    \n",
    "    def populate(self, steps: int = 1000):\n",
    "        for i in range(steps):\n",
    "            print(f\"warming up at step {i+1}\", end='\\r')\n",
    "            self.agent.play_step(self.net, epsilon=1)\n",
    "    \n",
    "    def forward(self, state: Tensor):\n",
    "        return self.net(state).float()\n",
    "    \n",
    "    def loss_fn(self, batch: Tuple[Tensor, Tensor]) -> Tensor:\n",
    "        states, actions, rewards, dones, next_states = batch\n",
    "        \n",
    "        actions = actions.view(actions.size(0), 1)\n",
    "        dones = dones.view(dones.size(0), 1)\n",
    "        \n",
    "        curr_Q = self.net(states).gather(1, actions)\n",
    "        with torch.no_grad():\n",
    "            next_Q = self.target_net(next_states)\n",
    "            max_next_Q = next_Q.max(1)[0]\n",
    "            max_next_Q = max_next_Q.view(max_next_Q.size(0), 1)\n",
    "            \n",
    "        expected_Q = (rewards + (1 - dones.float()) * self.hparams.gamma * max_next_Q)\n",
    "        loss = F.mse_loss(curr_Q, expected_Q.detach())\n",
    "        return loss\n",
    "    \n",
    "    def training_step(self, batch: Tuple[Tensor, Tensor], nb_batch) -> OrderedDict:\n",
    "        device = self.get_device(batch)\n",
    "        self.hparams.eps_start *= self.hparams.eps_decay\n",
    "        epsilon = max(self.hparams.eps_min, self.hparams.eps_start)\n",
    "        reward, done = self.agent.play_step(self.net, epsilon, device)\n",
    "        self.episode_reward += reward\n",
    "        loss = self.loss_fn(batch)\n",
    "        \n",
    "        if self.trainer.strategy in {\"ddp\", \"dp\"}:\n",
    "            loss = loss.unsqueeze(0)\n",
    "        \n",
    "        if done:\n",
    "            self.total_reward = self.episode_reward\n",
    "            self.episode_reward = 0\n",
    "            \n",
    "        # Soft update of target network\n",
    "        if self.global_step % self.hparams.sync_rate == 0:\n",
    "            print(\"target net is synced\")\n",
    "            self.target_net.load_state_dict(self.net.state_dict())\n",
    "\n",
    "        log = {\n",
    "            \"total_reward\": torch.tensor(self.total_reward).to(device),\n",
    "            \"reward\": torch.tensor(reward).to(device),\n",
    "            \"train_loss\": loss,\n",
    "        }\n",
    "        status = {\n",
    "            \"steps\": torch.tensor(self.global_step).to(device),\n",
    "            \"total_reward\": torch.tensor(self.total_reward).to(device),\n",
    "        }\n",
    "\n",
    "        # self.log(\"my loss\", loss, on_epoch=True)\n",
    "        # self.log(\"reward\", reward, on_epoch=True)\n",
    "        # self.log(\"epsilon\", epsilon, on_epoch=True)\n",
    "        \n",
    "        return OrderedDict({\"loss\": loss, \"log\": log, \"progress_bar\": status})\n",
    "    \n",
    "    def configure_optimizers(self) -> List[Optimizer]:\n",
    "        \"\"\"Initialize Adam optimizer.\"\"\"\n",
    "        optimizer = Adam(self.net.parameters(), lr=self.hparams.lr)\n",
    "        return [optimizer]\n",
    "\n",
    "    def __dataloader(self) -> DataLoader:\n",
    "        \"\"\"Initialize the Replay Buffer dataset used for retrieving experiences.\"\"\"\n",
    "        dataset = RLDataset(self.buffer, self.hparams.episode_length)\n",
    "        dataloader = DataLoader(\n",
    "            dataset=dataset,\n",
    "            batch_size=self.hparams.batch_size,\n",
    "        )\n",
    "        return dataloader\n",
    "\n",
    "    def train_dataloader(self) -> DataLoader:\n",
    "        \"\"\"Get train loader.\"\"\"\n",
    "        return self.__dataloader()\n",
    "\n",
    "    def get_device(self, batch) -> str:\n",
    "        \"\"\"Retrieve device currently being used by minibatch.\"\"\"\n",
    "        return batch[0].device.index if self.on_gpu else \"cpu\""
   ]
  },
  {
   "cell_type": "markdown",
   "metadata": {},
   "source": [
    "Start Training"
   ]
  },
  {
   "cell_type": "code",
   "execution_count": 21,
   "metadata": {},
   "outputs": [
    {
     "name": "stdout",
     "output_type": "stream",
     "text": [
      "warming up at step 86\r"
     ]
    },
    {
     "name": "stderr",
     "output_type": "stream",
     "text": [
      "GPU available: True, used: True\n",
      "TPU available: False, using: 0 TPU cores\n",
      "IPU available: False, using: 0 IPUs\n",
      "HPU available: False, using: 0 HPUs\n"
     ]
    },
    {
     "name": "stdout",
     "output_type": "stream",
     "text": [
      "warming up at step 100\r"
     ]
    },
    {
     "name": "stderr",
     "output_type": "stream",
     "text": [
      "LOCAL_RANK: 0 - CUDA_VISIBLE_DEVICES: [0]\n",
      "\n",
      "  | Name       | Type | Params\n",
      "------------------------------------\n",
      "0 | net        | DQN  | 1.7 M \n",
      "1 | target_net | DQN  | 1.7 M \n",
      "------------------------------------\n",
      "3.4 M     Trainable params\n",
      "0         Non-trainable params\n",
      "3.4 M     Total params\n",
      "13.494    Total estimated model params size (MB)\n",
      "/home/jimmy02119/anaconda3/envs/qmario/lib/python3.7/site-packages/pytorch_lightning/trainer/connectors/data_connector.py:245: PossibleUserWarning: The dataloader, train_dataloader, does not have many workers which may be a bottleneck. Consider increasing the value of the `num_workers` argument` (try 6 which is the number of cpus on this machine) in the `DataLoader` init to improve performance.\n",
      "  category=PossibleUserWarning,\n"
     ]
    },
    {
     "name": "stdout",
     "output_type": "stream",
     "text": [
      "target net is synced0, ?it/s]True\n",
      "Epoch 0: : 3it [00:00, 23.96it/s, loss=59.4, v_num=20]TrueTrue"
     ]
    },
    {
     "name": "stderr",
     "output_type": "stream",
     "text": [
      "/home/jimmy02119/anaconda3/envs/qmario/lib/python3.7/site-packages/ipykernel_launcher.py:64: UserWarning: Using a target size (torch.Size([32, 32])) that is different to the input size (torch.Size([32, 1])). This will likely lead to incorrect results due to broadcasting. Please ensure they have the same size.\n"
     ]
    },
    {
     "name": "stdout",
     "output_type": "stream",
     "text": [
      "Epoch 1: : 0it [00:00, ?it/s, loss=54.9, v_num=20]    "
     ]
    },
    {
     "name": "stderr",
     "output_type": "stream",
     "text": [
      "/home/jimmy02119/anaconda3/envs/qmario/lib/python3.7/site-packages/ipykernel_launcher.py:64: UserWarning: Using a target size (torch.Size([4, 4])) that is different to the input size (torch.Size([4, 1])). This will likely lead to incorrect results due to broadcasting. Please ensure they have the same size.\n"
     ]
    },
    {
     "name": "stdout",
     "output_type": "stream",
     "text": [
      "Epoch 99: : 4it [00:00, 32.53it/s, loss=18.8, v_num=20]rueTrueTrueTrueTrueTrueTrueTrueTrueTrueTrueTrueTrueTrueTrueTrueTrueTrueTrueTrueTrueTrueTrueTrueTrueTrueTrueTrueTrueTrueTrueTrueTrueTrueTrueTrueTrueTrueTrueTrueTrueTrueTrueTrueTrueTrueTrueTrueTrueTrueTrueTrueTrueTrueTrueTrueTrueTrueTrueTrueTrueTrueTrueTrueTrueTrueTrueTrueTrueTrueTrueTrueTrueTrueTrueTrueTrueTrueTrueTrueTrueTrueTrueTrueTrueTrueTrueTrueTrueTrueTrueTrueTrueTrueTrueTrueTrueTrueTrueTrueTrueTrueTrueTrueTrueTrueTrueTrueTrueTrueTrueTrueTrueTrueTrueTrueTrueTrueTrueTrueTrueTrueTrueTrueTrueTrueTrueTrueTrueTrueTrueTrueTrueTrueTrueTrueTrueTrueTrueTrueTrueTrueTrueTrueTrueTrueTrueTrueTrueTrueTrueTrueTrueTrueTrueTrueTrueTrueTrueTrueTrueTrueTrueTrueTrueTrueTrueTrueTrueTrueTrueTrueTrueTrueTrueTrueTrueTrueTrueTrueTrueTrueTrueTrueTrueTrueTrueTrueTrueTrueTrueTrueTrueTrueTrueTrueTrueTrueTrueTrueTrueTrueTrueTrueTrueTrueTrueTrueTrueTrueTrueTrueTrueTrueTrueTrueTrueTrueTrueTrueTrueTrueTrueTrueTrueTrueTrueTrueTrueTrueTrueTrueTrueTrueTrueTrueTrueTrueTrueTrueTrueTrueTrueTrueTrueTrueTrueTrueTrueTrueTrueTrueTrueTrueTrueTrueTrueTrueTrueTrueTrueTrueTrueTrueTrueTrueTrueTrueTrueTrueTrueTrueTrueTrueTrueTrueTrueTrueTrueTrueTrueTrueTrueTrueTrueTrueTrueTrueTrueTrueTrueTrueTrueTrueTrueTrueTrueTrueTrueTrueTrueTrueTrueTrueTrueTrueTrueTrueTrueTrueTrueTrueTrueTrueTrueTrueTrueTrueTrueTrueTrueTrueTrueTrueTrueTrueTrueTrueTrueTrueTrueTrueTrueTrueTrueTrueTrueTrueTrueTrueTrueTrueTrueTrueTrueTrueTrueTrueTrueTrueTrueTrueTrueTrueTrueTrueTrueTrueTrueTrueTrueTrueTrueTrueTrueTrueTrueTrueTrueTrueTrueTrueTrueTrueTrueTrueTrueTrueTrueTrueTrueTrueTrueTrueTrueTrueTrueTrueTrueTrueTrueTrueTrueTrueTrue\n"
     ]
    }
   ],
   "source": [
    "import torch\n",
    "from pytorch_lightning import Trainer\n",
    "from pytorch_lightning.loggers import WandbLogger\n",
    "\n",
    "model = DDQNLightning()\n",
    "# wandb_logger = WandbLogger(name=\"qMario\")\n",
    "trainer = Trainer(\n",
    "    accelerator=\"auto\",\n",
    "    devices = 1 if torch.cuda.is_available() else None,\n",
    "    # logger=wandb_logger,\n",
    "    max_epochs=10000,\n",
    "    val_check_interval=50,\n",
    "    # enable_progress_bar=False,\n",
    ")\n",
    "trainer.fit(model)"
   ]
  },
  {
   "cell_type": "code",
   "execution_count": null,
   "metadata": {},
   "outputs": [],
   "source": []
  }
 ],
 "metadata": {
  "interpreter": {
   "hash": "eb935de985543403a714cac0b5fa301e3b890701eafaabda2e211bd4461aab90"
  },
  "kernelspec": {
   "display_name": "Python 3.7.13 ('qmario')",
   "language": "python",
   "name": "python3"
  },
  "language_info": {
   "codemirror_mode": {
    "name": "ipython",
    "version": 3
   },
   "file_extension": ".py",
   "mimetype": "text/x-python",
   "name": "python",
   "nbconvert_exporter": "python",
   "pygments_lexer": "ipython3",
   "version": "3.7.13"
  },
  "orig_nbformat": 4
 },
 "nbformat": 4,
 "nbformat_minor": 2
}
